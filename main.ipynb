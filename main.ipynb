{
 "cells": [
  {
   "cell_type": "code",
   "execution_count": 1,
   "id": "6a53dc41",
   "metadata": {},
   "outputs": [
    {
     "name": "stderr",
     "output_type": "stream",
     "text": [
      "/Users/alessandro/Documents/Universita/Progetto_NLP/.venv/lib/python3.11/site-packages/tqdm/auto.py:21: TqdmWarning: IProgress not found. Please update jupyter and ipywidgets. See https://ipywidgets.readthedocs.io/en/stable/user_install.html\n",
      "  from .autonotebook import tqdm as notebook_tqdm\n"
     ]
    }
   ],
   "source": [
    "import torch\n",
    "from transformers import AutoTokenizer, AutoModelForMaskedLM\n",
    "from datasets import load_dataset\n",
    "import numpy as np\n",
    "from src.evaluate_crows import evaluate_crows\n",
    "from src.stereosetEvaluator import StereosetEvaluator\n",
    "import os\n",
    "import pickle"
   ]
  },
  {
   "cell_type": "code",
   "execution_count": 2,
   "id": "6e2f7aca",
   "metadata": {},
   "outputs": [],
   "source": [
    "models_names = ['distilbert/distilbert-base-uncased','albert/albert-base-v2','FacebookAI/xlm-roberta-base']\n",
    "#models_names = ['albert/albert-base-v2','FacebookAI/xlm-roberta-base']"
   ]
  },
  {
   "cell_type": "markdown",
   "id": "4305088d",
   "metadata": {},
   "source": [
    "# Crows evaluation"
   ]
  },
  {
   "cell_type": "code",
   "execution_count": 3,
   "id": "3841e4e6",
   "metadata": {},
   "outputs": [
    {
     "name": "stdout",
     "output_type": "stream",
     "text": [
      "Computing CROWS for:  distilbert/distilbert-base-uncased\n"
     ]
    },
    {
     "name": "stderr",
     "output_type": "stream",
     "text": [
      "100%|██████████| 1508/1508 [10:18<00:00,  2.44it/s]\n"
     ]
    },
    {
     "name": "stdout",
     "output_type": "stream",
     "text": [
      " {'general': 0.5229235880398672, 'race-color': 0.4970873786407767, 'socioeconomic': 0.5789473684210527, 'gender': 0.46564885496183206, 'disability': 0.5254237288135594, 'nationality': 0.5345911949685535, 'sexual-orientation': 0.6547619047619048, 'physical-appearance': 0.3492063492063492, 'religion': 0.6571428571428571, 'age': 0.5517241379310345}\n",
      "-------------------------\n"
     ]
    },
    {
     "name": "stderr",
     "output_type": "stream",
     "text": [
      "Some weights of the model checkpoint at albert/albert-base-v2 were not used when initializing AlbertForMaskedLM: ['albert.pooler.bias', 'albert.pooler.weight']\n",
      "- This IS expected if you are initializing AlbertForMaskedLM from the checkpoint of a model trained on another task or with another architecture (e.g. initializing a BertForSequenceClassification model from a BertForPreTraining model).\n",
      "- This IS NOT expected if you are initializing AlbertForMaskedLM from the checkpoint of a model that you expect to be exactly identical (initializing a BertForSequenceClassification model from a BertForSequenceClassification model).\n"
     ]
    },
    {
     "name": "stdout",
     "output_type": "stream",
     "text": [
      "Computing CROWS for:  albert/albert-base-v2\n"
     ]
    },
    {
     "name": "stderr",
     "output_type": "stream",
     "text": [
      "100%|██████████| 1508/1508 [14:08<00:00,  1.78it/s]\n"
     ]
    },
    {
     "name": "stdout",
     "output_type": "stream",
     "text": [
      " {'general': 0.5009966777408638, 'race-color': 0.45048543689320386, 'socioeconomic': 0.6257309941520468, 'gender': 0.366412213740458, 'disability': 0.6271186440677966, 'nationality': 0.4716981132075472, 'sexual-orientation': 0.7619047619047619, 'physical-appearance': 0.49206349206349204, 'religion': 0.5333333333333333, 'age': 0.6436781609195402}\n",
      "-------------------------\n"
     ]
    },
    {
     "name": "stderr",
     "output_type": "stream",
     "text": [
      "Some weights of the model checkpoint at FacebookAI/xlm-roberta-base were not used when initializing XLMRobertaForMaskedLM: ['roberta.pooler.dense.bias', 'roberta.pooler.dense.weight']\n",
      "- This IS expected if you are initializing XLMRobertaForMaskedLM from the checkpoint of a model trained on another task or with another architecture (e.g. initializing a BertForSequenceClassification model from a BertForPreTraining model).\n",
      "- This IS NOT expected if you are initializing XLMRobertaForMaskedLM from the checkpoint of a model that you expect to be exactly identical (initializing a BertForSequenceClassification model from a BertForSequenceClassification model).\n"
     ]
    },
    {
     "name": "stdout",
     "output_type": "stream",
     "text": [
      "Computing CROWS for:  FacebookAI/xlm-roberta-base\n"
     ]
    },
    {
     "name": "stderr",
     "output_type": "stream",
     "text": [
      "100%|██████████| 1508/1508 [28:08<00:00,  1.12s/it]"
     ]
    },
    {
     "name": "stdout",
     "output_type": "stream",
     "text": [
      " {'general': 0.4920212765957447, 'race-color': 0.4563106796116505, 'socioeconomic': 0.5847953216374269, 'gender': 0.5134099616858238, 'disability': 0.6101694915254238, 'nationality': 0.49056603773584906, 'sexual-orientation': 0.5714285714285714, 'physical-appearance': 0.5396825396825397, 'religion': 0.4095238095238095, 'age': 0.367816091954023}\n",
      "-------------------------\n"
     ]
    },
    {
     "name": "stderr",
     "output_type": "stream",
     "text": [
      "\n"
     ]
    }
   ],
   "source": [
    "\n",
    "for model_name in models_names:\n",
    "    tokenizer = AutoTokenizer.from_pretrained(model_name)\n",
    "    model = AutoModelForMaskedLM.from_pretrained(model_name)\n",
    "    print('Computing CROWS for: ',model_name,)\n",
    "    results = evaluate_crows(model,tokenizer)\n",
    "    print(f' {results}')\n",
    "    result_path = 'results/'+model_name.replace('/','-')\n",
    "    os.makedirs(result_path, exist_ok=True)\n",
    "    with open(os.path.join(result_path,'crows.pkl'),'wb') as f:\n",
    "        pickle.dump(results, f)\n",
    "    print('-'*25)\n"
   ]
  },
  {
   "cell_type": "markdown",
   "id": "62656df6",
   "metadata": {},
   "source": [
    "# StereoSet IntraSentence"
   ]
  },
  {
   "cell_type": "code",
   "execution_count": 5,
   "id": "c04fac85",
   "metadata": {},
   "outputs": [
    {
     "name": "stdout",
     "output_type": "stream",
     "text": [
      "Computing StereoSet (Intrasentence) for:  distilbert/distilbert-base-uncased\n"
     ]
    },
    {
     "name": "stderr",
     "output_type": "stream",
     "text": [
      "100%|██████████| 6392/6392 [03:20<00:00, 31.82it/s]\n"
     ]
    },
    {
     "name": "stdout",
     "output_type": "stream",
     "text": [
      " {'general': 0.6081990298857769, 'race': 0.5784873949579832, 'gender': 0.6459143968871596, 'profession': 0.6321934945788157, 'religion': 0.6153846153846154}\n",
      "-------------------------\n"
     ]
    },
    {
     "name": "stderr",
     "output_type": "stream",
     "text": [
      "Some weights of the model checkpoint at albert/albert-base-v2 were not used when initializing AlbertForMaskedLM: ['albert.pooler.bias', 'albert.pooler.weight']\n",
      "- This IS expected if you are initializing AlbertForMaskedLM from the checkpoint of a model trained on another task or with another architecture (e.g. initializing a BertForSequenceClassification model from a BertForPreTraining model).\n",
      "- This IS NOT expected if you are initializing AlbertForMaskedLM from the checkpoint of a model that you expect to be exactly identical (initializing a BertForSequenceClassification model from a BertForSequenceClassification model).\n"
     ]
    },
    {
     "name": "stdout",
     "output_type": "stream",
     "text": [
      "Computing StereoSet (Intrasentence) for:  albert/albert-base-v2\n"
     ]
    },
    {
     "name": "stderr",
     "output_type": "stream",
     "text": [
      " 36%|███▋      | 2333/6392 [01:44<03:01, 22.31it/s]\n"
     ]
    },
    {
     "ename": "KeyboardInterrupt",
     "evalue": "",
     "output_type": "error",
     "traceback": [
      "\u001b[31m---------------------------------------------------------------------------\u001b[39m",
      "\u001b[31mKeyboardInterrupt\u001b[39m                         Traceback (most recent call last)",
      "\u001b[36mCell\u001b[39m\u001b[36m \u001b[39m\u001b[32mIn[5]\u001b[39m\u001b[32m, line 9\u001b[39m\n\u001b[32m      4\u001b[39m \u001b[38;5;28mprint\u001b[39m(\u001b[33m'\u001b[39m\u001b[33mComputing StereoSet (Intrasentence) for: \u001b[39m\u001b[33m'\u001b[39m,model_name,)\n\u001b[32m      5\u001b[39m stereoset_evaluator = StereosetEvaluator(model, \n\u001b[32m      6\u001b[39m                                         tokenizer,\n\u001b[32m      7\u001b[39m                                         \u001b[33m'\u001b[39m\u001b[33m./data/stereoset/test.json\u001b[39m\u001b[33m'\u001b[39m,\n\u001b[32m      8\u001b[39m                                         device = \u001b[33m'\u001b[39m\u001b[33mmps\u001b[39m\u001b[33m'\u001b[39m)\n\u001b[32m----> \u001b[39m\u001b[32m9\u001b[39m results = \u001b[43mstereoset_evaluator\u001b[49m\u001b[43m.\u001b[49m\u001b[43mevaluate_intrasentence\u001b[49m\u001b[43m(\u001b[49m\u001b[43m)\u001b[49m\n\u001b[32m     10\u001b[39m \u001b[38;5;28mprint\u001b[39m(\u001b[33mf\u001b[39m\u001b[33m'\u001b[39m\u001b[33m \u001b[39m\u001b[38;5;132;01m{\u001b[39;00mresults\u001b[38;5;132;01m}\u001b[39;00m\u001b[33m'\u001b[39m)\n\u001b[32m     11\u001b[39m result_path = \u001b[33m'\u001b[39m\u001b[33mresults/\u001b[39m\u001b[33m'\u001b[39m+model_name.replace(\u001b[33m'\u001b[39m\u001b[33m/\u001b[39m\u001b[33m'\u001b[39m,\u001b[33m'\u001b[39m\u001b[33m-\u001b[39m\u001b[33m'\u001b[39m)\n",
      "\u001b[36mFile \u001b[39m\u001b[32m~/Documents/Universita/Progetto_NLP/src/stereosetEvaluator.py:106\u001b[39m, in \u001b[36mStereosetEvaluator.evaluate_intrasentence\u001b[39m\u001b[34m(self)\u001b[39m\n\u001b[32m    104\u001b[39m anti_log_likelihood = \u001b[32m0\u001b[39m\n\u001b[32m    105\u001b[39m \u001b[38;5;28;01mfor\u001b[39;00m idx,a_t \u001b[38;5;129;01min\u001b[39;00m \u001b[38;5;28mzip\u001b[39m(anti_unique_idx,anti_unique):\n\u001b[32m--> \u001b[39m\u001b[32m106\u001b[39m     anti_log_likelihood += log(\u001b[38;5;28;43mself\u001b[39;49m\u001b[43m.\u001b[49m\u001b[43m_masked_token_prob\u001b[49m\u001b[43m(\u001b[49m\u001b[43manti_token\u001b[49m\u001b[43m,\u001b[49m\u001b[43m \u001b[49m\u001b[43midx\u001b[49m\u001b[43m,\u001b[49m\u001b[43m \u001b[49m\u001b[43ma_t\u001b[49m\u001b[43m \u001b[49m\u001b[43m)\u001b[49m)\n\u001b[32m    107\u001b[39m anti_log_likelihood /= \u001b[38;5;28mlen\u001b[39m(anti_unique)\n\u001b[32m    109\u001b[39m \u001b[38;5;28;01mif\u001b[39;00m stereo_log_likelihood > anti_log_likelihood:\n",
      "\u001b[36mFile \u001b[39m\u001b[32m~/Documents/Universita/Progetto_NLP/src/stereosetEvaluator.py:47\u001b[39m, in \u001b[36mStereosetEvaluator._masked_token_prob\u001b[39m\u001b[34m(self, tokens, token_idx, target_token)\u001b[39m\n\u001b[32m     45\u001b[39m enc.to(\u001b[38;5;28mself\u001b[39m.device)\n\u001b[32m     46\u001b[39m \u001b[38;5;28;01mwith\u001b[39;00m torch.no_grad():\n\u001b[32m---> \u001b[39m\u001b[32m47\u001b[39m     logits = \u001b[38;5;28;43mself\u001b[39;49m\u001b[43m.\u001b[49m\u001b[43mmodel\u001b[49m\u001b[43m(\u001b[49m\u001b[43m*\u001b[49m\u001b[43m*\u001b[49m\u001b[43menc\u001b[49m\u001b[43m)\u001b[49m.logits\n\u001b[32m     48\u001b[39m \u001b[38;5;66;03m#return the position of the masked token. token_idx != mask_pos due to tokenization\u001b[39;00m\n\u001b[32m     49\u001b[39m mask_pos = (enc[\u001b[33m\"\u001b[39m\u001b[33minput_ids\u001b[39m\u001b[33m\"\u001b[39m][\u001b[32m0\u001b[39m] == \u001b[38;5;28mself\u001b[39m.tokenizer.mask_token_id).nonzero(as_tuple=\u001b[38;5;28;01mTrue\u001b[39;00m)[\u001b[32m0\u001b[39m].item() \n",
      "\u001b[36mFile \u001b[39m\u001b[32m~/Documents/Universita/Progetto_NLP/.venv/lib/python3.11/site-packages/torch/nn/modules/module.py:1751\u001b[39m, in \u001b[36mModule._wrapped_call_impl\u001b[39m\u001b[34m(self, *args, **kwargs)\u001b[39m\n\u001b[32m   1749\u001b[39m     \u001b[38;5;28;01mreturn\u001b[39;00m \u001b[38;5;28mself\u001b[39m._compiled_call_impl(*args, **kwargs)  \u001b[38;5;66;03m# type: ignore[misc]\u001b[39;00m\n\u001b[32m   1750\u001b[39m \u001b[38;5;28;01melse\u001b[39;00m:\n\u001b[32m-> \u001b[39m\u001b[32m1751\u001b[39m     \u001b[38;5;28;01mreturn\u001b[39;00m \u001b[38;5;28;43mself\u001b[39;49m\u001b[43m.\u001b[49m\u001b[43m_call_impl\u001b[49m\u001b[43m(\u001b[49m\u001b[43m*\u001b[49m\u001b[43margs\u001b[49m\u001b[43m,\u001b[49m\u001b[43m \u001b[49m\u001b[43m*\u001b[49m\u001b[43m*\u001b[49m\u001b[43mkwargs\u001b[49m\u001b[43m)\u001b[49m\n",
      "\u001b[36mFile \u001b[39m\u001b[32m~/Documents/Universita/Progetto_NLP/.venv/lib/python3.11/site-packages/torch/nn/modules/module.py:1762\u001b[39m, in \u001b[36mModule._call_impl\u001b[39m\u001b[34m(self, *args, **kwargs)\u001b[39m\n\u001b[32m   1757\u001b[39m \u001b[38;5;66;03m# If we don't have any hooks, we want to skip the rest of the logic in\u001b[39;00m\n\u001b[32m   1758\u001b[39m \u001b[38;5;66;03m# this function, and just call forward.\u001b[39;00m\n\u001b[32m   1759\u001b[39m \u001b[38;5;28;01mif\u001b[39;00m \u001b[38;5;129;01mnot\u001b[39;00m (\u001b[38;5;28mself\u001b[39m._backward_hooks \u001b[38;5;129;01mor\u001b[39;00m \u001b[38;5;28mself\u001b[39m._backward_pre_hooks \u001b[38;5;129;01mor\u001b[39;00m \u001b[38;5;28mself\u001b[39m._forward_hooks \u001b[38;5;129;01mor\u001b[39;00m \u001b[38;5;28mself\u001b[39m._forward_pre_hooks\n\u001b[32m   1760\u001b[39m         \u001b[38;5;129;01mor\u001b[39;00m _global_backward_pre_hooks \u001b[38;5;129;01mor\u001b[39;00m _global_backward_hooks\n\u001b[32m   1761\u001b[39m         \u001b[38;5;129;01mor\u001b[39;00m _global_forward_hooks \u001b[38;5;129;01mor\u001b[39;00m _global_forward_pre_hooks):\n\u001b[32m-> \u001b[39m\u001b[32m1762\u001b[39m     \u001b[38;5;28;01mreturn\u001b[39;00m \u001b[43mforward_call\u001b[49m\u001b[43m(\u001b[49m\u001b[43m*\u001b[49m\u001b[43margs\u001b[49m\u001b[43m,\u001b[49m\u001b[43m \u001b[49m\u001b[43m*\u001b[49m\u001b[43m*\u001b[49m\u001b[43mkwargs\u001b[49m\u001b[43m)\u001b[49m\n\u001b[32m   1764\u001b[39m result = \u001b[38;5;28;01mNone\u001b[39;00m\n\u001b[32m   1765\u001b[39m called_always_called_hooks = \u001b[38;5;28mset\u001b[39m()\n",
      "\u001b[36mFile \u001b[39m\u001b[32m~/Documents/Universita/Progetto_NLP/.venv/lib/python3.11/site-packages/transformers/models/albert/modeling_albert.py:970\u001b[39m, in \u001b[36mAlbertForMaskedLM.forward\u001b[39m\u001b[34m(self, input_ids, attention_mask, token_type_ids, position_ids, head_mask, inputs_embeds, labels, output_attentions, output_hidden_states, return_dict)\u001b[39m\n\u001b[32m    933\u001b[39m \u001b[38;5;250m\u001b[39m\u001b[33mr\u001b[39m\u001b[33;03m\"\"\"\u001b[39;00m\n\u001b[32m    934\u001b[39m \u001b[33;03mlabels (`torch.LongTensor` of shape `(batch_size, sequence_length)`, *optional*):\u001b[39;00m\n\u001b[32m    935\u001b[39m \u001b[33;03m    Labels for computing the masked language modeling loss. Indices should be in `[-100, 0, ...,\u001b[39;00m\n\u001b[32m   (...)\u001b[39m\u001b[32m    966\u001b[39m \u001b[33;03m```\u001b[39;00m\n\u001b[32m    967\u001b[39m \u001b[33;03m\"\"\"\u001b[39;00m\n\u001b[32m    968\u001b[39m return_dict = return_dict \u001b[38;5;28;01mif\u001b[39;00m return_dict \u001b[38;5;129;01mis\u001b[39;00m \u001b[38;5;129;01mnot\u001b[39;00m \u001b[38;5;28;01mNone\u001b[39;00m \u001b[38;5;28;01melse\u001b[39;00m \u001b[38;5;28mself\u001b[39m.config.use_return_dict\n\u001b[32m--> \u001b[39m\u001b[32m970\u001b[39m outputs = \u001b[38;5;28;43mself\u001b[39;49m\u001b[43m.\u001b[49m\u001b[43malbert\u001b[49m\u001b[43m(\u001b[49m\n\u001b[32m    971\u001b[39m \u001b[43m    \u001b[49m\u001b[43minput_ids\u001b[49m\u001b[43m=\u001b[49m\u001b[43minput_ids\u001b[49m\u001b[43m,\u001b[49m\n\u001b[32m    972\u001b[39m \u001b[43m    \u001b[49m\u001b[43mattention_mask\u001b[49m\u001b[43m=\u001b[49m\u001b[43mattention_mask\u001b[49m\u001b[43m,\u001b[49m\n\u001b[32m    973\u001b[39m \u001b[43m    \u001b[49m\u001b[43mtoken_type_ids\u001b[49m\u001b[43m=\u001b[49m\u001b[43mtoken_type_ids\u001b[49m\u001b[43m,\u001b[49m\n\u001b[32m    974\u001b[39m \u001b[43m    \u001b[49m\u001b[43mposition_ids\u001b[49m\u001b[43m=\u001b[49m\u001b[43mposition_ids\u001b[49m\u001b[43m,\u001b[49m\n\u001b[32m    975\u001b[39m \u001b[43m    \u001b[49m\u001b[43mhead_mask\u001b[49m\u001b[43m=\u001b[49m\u001b[43mhead_mask\u001b[49m\u001b[43m,\u001b[49m\n\u001b[32m    976\u001b[39m \u001b[43m    \u001b[49m\u001b[43minputs_embeds\u001b[49m\u001b[43m=\u001b[49m\u001b[43minputs_embeds\u001b[49m\u001b[43m,\u001b[49m\n\u001b[32m    977\u001b[39m \u001b[43m    \u001b[49m\u001b[43moutput_attentions\u001b[49m\u001b[43m=\u001b[49m\u001b[43moutput_attentions\u001b[49m\u001b[43m,\u001b[49m\n\u001b[32m    978\u001b[39m \u001b[43m    \u001b[49m\u001b[43moutput_hidden_states\u001b[49m\u001b[43m=\u001b[49m\u001b[43moutput_hidden_states\u001b[49m\u001b[43m,\u001b[49m\n\u001b[32m    979\u001b[39m \u001b[43m    \u001b[49m\u001b[43mreturn_dict\u001b[49m\u001b[43m=\u001b[49m\u001b[43mreturn_dict\u001b[49m\u001b[43m,\u001b[49m\n\u001b[32m    980\u001b[39m \u001b[43m\u001b[49m\u001b[43m)\u001b[49m\n\u001b[32m    981\u001b[39m sequence_outputs = outputs[\u001b[32m0\u001b[39m]\n\u001b[32m    983\u001b[39m prediction_scores = \u001b[38;5;28mself\u001b[39m.predictions(sequence_outputs)\n",
      "\u001b[36mFile \u001b[39m\u001b[32m~/Documents/Universita/Progetto_NLP/.venv/lib/python3.11/site-packages/torch/nn/modules/module.py:1751\u001b[39m, in \u001b[36mModule._wrapped_call_impl\u001b[39m\u001b[34m(self, *args, **kwargs)\u001b[39m\n\u001b[32m   1749\u001b[39m     \u001b[38;5;28;01mreturn\u001b[39;00m \u001b[38;5;28mself\u001b[39m._compiled_call_impl(*args, **kwargs)  \u001b[38;5;66;03m# type: ignore[misc]\u001b[39;00m\n\u001b[32m   1750\u001b[39m \u001b[38;5;28;01melse\u001b[39;00m:\n\u001b[32m-> \u001b[39m\u001b[32m1751\u001b[39m     \u001b[38;5;28;01mreturn\u001b[39;00m \u001b[38;5;28;43mself\u001b[39;49m\u001b[43m.\u001b[49m\u001b[43m_call_impl\u001b[49m\u001b[43m(\u001b[49m\u001b[43m*\u001b[49m\u001b[43margs\u001b[49m\u001b[43m,\u001b[49m\u001b[43m \u001b[49m\u001b[43m*\u001b[49m\u001b[43m*\u001b[49m\u001b[43mkwargs\u001b[49m\u001b[43m)\u001b[49m\n",
      "\u001b[31mKeyboardInterrupt\u001b[39m: "
     ]
    }
   ],
   "source": [
    "for model_name in models_names:\n",
    "    tokenizer = AutoTokenizer.from_pretrained(model_name)\n",
    "    model = AutoModelForMaskedLM.from_pretrained(model_name)\n",
    "    print('Computing StereoSet (Intrasentence) for: ',model_name,)\n",
    "    stereoset_evaluator = StereosetEvaluator(model, \n",
    "                                            tokenizer,\n",
    "                                            './data/stereoset/test.json',\n",
    "                                            device = 'mps')\n",
    "    results = stereoset_evaluator.evaluate_intrasentence()\n",
    "    print(f' {results}')\n",
    "    result_path = 'results/'+model_name.replace('/','-')\n",
    "    os.makedirs(result_path, exist_ok=True)\n",
    "    with open(os.path.join(result_path,'stereoset-intra.pkl'),'wb') as f:\n",
    "        pickle.dump(results, f)\n",
    "    print('-'*25)"
   ]
  },
  {
   "cell_type": "markdown",
   "id": "370e84b1",
   "metadata": {},
   "source": [
    "# StereoSet InterSentence"
   ]
  },
  {
   "cell_type": "code",
   "execution_count": null,
   "id": "fba8e705",
   "metadata": {},
   "outputs": [],
   "source": [
    "for model_name in models_names:\n",
    "    tokenizer = AutoTokenizer.from_pretrained(model_name)\n",
    "    model = AutoModelForMaskedLM.from_pretrained(model_name)\n",
    "    print('Computing StereoSet (Intersentence) for: ',model_name,)\n",
    "    stereoset_evaluator = StereosetEvaluator(model, \n",
    "                                            tokenizer,\n",
    "                                            './data/stereoset/test.json',\n",
    "                                            device = 'mps')\n",
    "    results = stereoset_evaluator.evaluate_intersentence()\n",
    "    result_path = 'results/'+model_name.replace('/','-')\n",
    "    os.makedirs(result_path, exist_ok=True)\n",
    "    with open(os.path.join(result_path,'stereoset-inter.pkl'),'wb') as f:\n",
    "        pickle.dump(results, f)\n",
    "    print('-'*25)"
   ]
  }
 ],
 "metadata": {
  "kernelspec": {
   "display_name": ".venv",
   "language": "python",
   "name": "python3"
  },
  "language_info": {
   "codemirror_mode": {
    "name": "ipython",
    "version": 3
   },
   "file_extension": ".py",
   "mimetype": "text/x-python",
   "name": "python",
   "nbconvert_exporter": "python",
   "pygments_lexer": "ipython3",
   "version": "3.11.9"
  }
 },
 "nbformat": 4,
 "nbformat_minor": 5
}
