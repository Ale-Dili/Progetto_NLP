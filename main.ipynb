{
 "cells": [
  {
   "cell_type": "code",
   "execution_count": 1,
   "id": "6a53dc41",
   "metadata": {},
   "outputs": [
    {
     "name": "stderr",
     "output_type": "stream",
     "text": [
      "/Users/alessandro/Documents/Universita/Progetto_NLP/.venv/lib/python3.11/site-packages/tqdm/auto.py:21: TqdmWarning: IProgress not found. Please update jupyter and ipywidgets. See https://ipywidgets.readthedocs.io/en/stable/user_install.html\n",
      "  from .autonotebook import tqdm as notebook_tqdm\n"
     ]
    }
   ],
   "source": [
    "import torch\n",
    "from transformers import AutoTokenizer, AutoModelForMaskedLM\n",
    "from datasets import load_dataset\n",
    "import numpy as np\n",
    "from src.evaluate_crows import evaluate_crows\n",
    "from src.stereosetEvaluator import StereosetEvaluator\n",
    "import os\n",
    "import pickle"
   ]
  },
  {
   "cell_type": "code",
   "execution_count": 2,
   "id": "6e2f7aca",
   "metadata": {},
   "outputs": [],
   "source": [
    "#models_names = ['distilbert/distilbert-base-uncased','albert/albert-base-v2','FacebookAI/xlm-roberta-base']\n",
    "#models_names = ['albert/albert-base-v2','FacebookAI/xlm-roberta-base']\n",
    "models_names = ['FacebookAI/xlm-roberta-base']"
   ]
  },
  {
   "cell_type": "markdown",
   "id": "4305088d",
   "metadata": {},
   "source": [
    "# Crows evaluation"
   ]
  },
  {
   "cell_type": "code",
   "execution_count": 3,
   "id": "3841e4e6",
   "metadata": {},
   "outputs": [
    {
     "name": "stdout",
     "output_type": "stream",
     "text": [
      "Computing CROWS for:  distilbert/distilbert-base-uncased\n"
     ]
    },
    {
     "name": "stderr",
     "output_type": "stream",
     "text": [
      "100%|██████████| 1508/1508 [07:51<00:00,  3.20it/s]\n"
     ]
    },
    {
     "name": "stdout",
     "output_type": "stream",
     "text": [
      " {'general': 0.5229235880398672, 'race-color': 0.4970873786407767, 'socioeconomic': 0.5789473684210527, 'gender': 0.46564885496183206, 'disability': 0.5254237288135594, 'nationality': 0.5345911949685535, 'sexual-orientation': 0.6547619047619048, 'physical-appearance': 0.3492063492063492, 'religion': 0.6571428571428571, 'age': 0.5517241379310345}\n",
      "-------------------------\n"
     ]
    },
    {
     "name": "stderr",
     "output_type": "stream",
     "text": [
      "Some weights of the model checkpoint at albert/albert-base-v2 were not used when initializing AlbertForMaskedLM: ['albert.pooler.bias', 'albert.pooler.weight']\n",
      "- This IS expected if you are initializing AlbertForMaskedLM from the checkpoint of a model trained on another task or with another architecture (e.g. initializing a BertForSequenceClassification model from a BertForPreTraining model).\n",
      "- This IS NOT expected if you are initializing AlbertForMaskedLM from the checkpoint of a model that you expect to be exactly identical (initializing a BertForSequenceClassification model from a BertForSequenceClassification model).\n"
     ]
    },
    {
     "name": "stdout",
     "output_type": "stream",
     "text": [
      "Computing CROWS for:  albert/albert-base-v2\n"
     ]
    },
    {
     "name": "stderr",
     "output_type": "stream",
     "text": [
      "100%|██████████| 1508/1508 [12:31<00:00,  2.01it/s]\n"
     ]
    },
    {
     "name": "stdout",
     "output_type": "stream",
     "text": [
      " {'general': 0.5009966777408638, 'race-color': 0.45048543689320386, 'socioeconomic': 0.6257309941520468, 'gender': 0.366412213740458, 'disability': 0.6271186440677966, 'nationality': 0.4716981132075472, 'sexual-orientation': 0.7619047619047619, 'physical-appearance': 0.49206349206349204, 'religion': 0.5333333333333333, 'age': 0.6436781609195402}\n",
      "-------------------------\n"
     ]
    },
    {
     "name": "stderr",
     "output_type": "stream",
     "text": [
      "Some weights of the model checkpoint at FacebookAI/xlm-roberta-base were not used when initializing XLMRobertaForMaskedLM: ['roberta.pooler.dense.bias', 'roberta.pooler.dense.weight']\n",
      "- This IS expected if you are initializing XLMRobertaForMaskedLM from the checkpoint of a model trained on another task or with another architecture (e.g. initializing a BertForSequenceClassification model from a BertForPreTraining model).\n",
      "- This IS NOT expected if you are initializing XLMRobertaForMaskedLM from the checkpoint of a model that you expect to be exactly identical (initializing a BertForSequenceClassification model from a BertForSequenceClassification model).\n"
     ]
    },
    {
     "name": "stdout",
     "output_type": "stream",
     "text": [
      "Computing CROWS for:  FacebookAI/xlm-roberta-base\n"
     ]
    },
    {
     "name": "stderr",
     "output_type": "stream",
     "text": [
      "100%|██████████| 1508/1508 [26:09<00:00,  1.04s/it]"
     ]
    },
    {
     "name": "stdout",
     "output_type": "stream",
     "text": [
      " {'general': 0.4920212765957447, 'race-color': 0.4563106796116505, 'socioeconomic': 0.5847953216374269, 'gender': 0.5134099616858238, 'disability': 0.6101694915254238, 'nationality': 0.49056603773584906, 'sexual-orientation': 0.5714285714285714, 'physical-appearance': 0.5396825396825397, 'religion': 0.4095238095238095, 'age': 0.367816091954023}\n",
      "-------------------------\n"
     ]
    },
    {
     "name": "stderr",
     "output_type": "stream",
     "text": [
      "\n"
     ]
    }
   ],
   "source": [
    "\n",
    "for model_name in models_names:\n",
    "    tokenizer = AutoTokenizer.from_pretrained(model_name)\n",
    "    model = AutoModelForMaskedLM.from_pretrained(model_name)\n",
    "    print('Computing CROWS for: ',model_name,)\n",
    "    results = evaluate_crows(model,tokenizer)\n",
    "    print(f' {results}')\n",
    "    result_path = 'results/'+model_name.replace('/','-')\n",
    "    os.makedirs(result_path, exist_ok=True)\n",
    "    with open(os.path.join(result_path,'crows.pkl'),'wb') as f:\n",
    "        pickle.dump(results, f)\n",
    "    print('-'*25)\n"
   ]
  },
  {
   "cell_type": "markdown",
   "id": "62656df6",
   "metadata": {},
   "source": [
    "# StereoSet IntraSentence"
   ]
  },
  {
   "cell_type": "code",
   "execution_count": null,
   "id": "c04fac85",
   "metadata": {},
   "outputs": [
    {
     "name": "stdout",
     "output_type": "stream",
     "text": [
      "Computing StereoSet (Intrasentence) for:  distilbert/distilbert-base-uncased\n"
     ]
    },
    {
     "name": "stderr",
     "output_type": "stream",
     "text": [
      "100%|██████████| 6392/6392 [04:10<00:00, 25.49it/s]\n"
     ]
    },
    {
     "name": "stdout",
     "output_type": "stream",
     "text": [
      " {'general': 0.6081990298857769, 'race': 0.5784873949579832, 'gender': 0.6459143968871596, 'profession': 0.6321934945788157, 'religion': 0.6153846153846154}\n",
      "-------------------------\n"
     ]
    },
    {
     "name": "stderr",
     "output_type": "stream",
     "text": [
      "Some weights of the model checkpoint at albert/albert-base-v2 were not used when initializing AlbertForMaskedLM: ['albert.pooler.bias', 'albert.pooler.weight']\n",
      "- This IS expected if you are initializing AlbertForMaskedLM from the checkpoint of a model trained on another task or with another architecture (e.g. initializing a BertForSequenceClassification model from a BertForPreTraining model).\n",
      "- This IS NOT expected if you are initializing AlbertForMaskedLM from the checkpoint of a model that you expect to be exactly identical (initializing a BertForSequenceClassification model from a BertForSequenceClassification model).\n"
     ]
    },
    {
     "name": "stdout",
     "output_type": "stream",
     "text": [
      "Computing StereoSet (Intrasentence) for:  albert/albert-base-v2\n"
     ]
    },
    {
     "name": "stderr",
     "output_type": "stream",
     "text": [
      "100%|██████████| 6392/6392 [05:54<00:00, 18.03it/s]\n"
     ]
    },
    {
     "name": "stdout",
     "output_type": "stream",
     "text": [
      " {'general': 0.5945861367548114, 'race': 0.5660504201680673, 'gender': 0.6095979247730221, 'profession': 0.6213511259382819, 'religion': 0.631578947368421}\n",
      "-------------------------\n"
     ]
    },
    {
     "name": "stderr",
     "output_type": "stream",
     "text": [
      "Some weights of the model checkpoint at FacebookAI/xlm-roberta-base were not used when initializing XLMRobertaForMaskedLM: ['roberta.pooler.dense.bias', 'roberta.pooler.dense.weight']\n",
      "- This IS expected if you are initializing XLMRobertaForMaskedLM from the checkpoint of a model trained on another task or with another architecture (e.g. initializing a BertForSequenceClassification model from a BertForPreTraining model).\n",
      "- This IS NOT expected if you are initializing XLMRobertaForMaskedLM from the checkpoint of a model that you expect to be exactly identical (initializing a BertForSequenceClassification model from a BertForSequenceClassification model).\n"
     ]
    },
    {
     "name": "stdout",
     "output_type": "stream",
     "text": [
      "Computing StereoSet (Intrasentence) for:  FacebookAI/xlm-roberta-base\n"
     ]
    },
    {
     "name": "stderr",
     "output_type": "stream",
     "text": [
      "100%|██████████| 6392/6392 [13:01<00:00,  8.18it/s]"
     ]
    },
    {
     "name": "stdout",
     "output_type": "stream",
     "text": [
      " {'general': 0.53770337922403, 'race': 0.5218413978494624, 'gender': 0.5719844357976653, 'profession': 0.5450375312760634, 'religion': 0.5506072874493927}\n",
      "-------------------------\n"
     ]
    },
    {
     "name": "stderr",
     "output_type": "stream",
     "text": [
      "\n"
     ]
    }
   ],
   "source": [
    "\n",
    "for model_name in models_names:\n",
    "    tokenizer = AutoTokenizer.from_pretrained(model_name)\n",
    "    model = AutoModelForMaskedLM.from_pretrained(model_name)\n",
    "    print('Computing StereoSet (Intrasentence) for: ',model_name,)\n",
    "    stereoset_evaluator = StereosetEvaluator(model, \n",
    "                                            tokenizer,\n",
    "                                            './data/stereoset/test.json',\n",
    "                                            device = 'mps')\n",
    "    results = stereoset_evaluator.evaluate_intrasentence()\n",
    "    print(f' {results}')\n",
    "    result_path = 'results/'+model_name.replace('/','-')\n",
    "    os.makedirs(result_path, exist_ok=True)\n",
    "    with open(os.path.join(result_path,'stereoset-intra.pkl'),'wb') as f:\n",
    "        pickle.dump(results, f)\n",
    "    print('-'*25)"
   ]
  },
  {
   "cell_type": "markdown",
   "id": "370e84b1",
   "metadata": {},
   "source": [
    "# StereoSet InterSentence"
   ]
  },
  {
   "cell_type": "code",
   "execution_count": 3,
   "id": "fba8e705",
   "metadata": {},
   "outputs": [
    {
     "name": "stderr",
     "output_type": "stream",
     "text": [
      "Some weights of the model checkpoint at FacebookAI/xlm-roberta-base were not used when initializing XLMRobertaForMaskedLM: ['roberta.pooler.dense.bias', 'roberta.pooler.dense.weight']\n",
      "- This IS expected if you are initializing XLMRobertaForMaskedLM from the checkpoint of a model trained on another task or with another architecture (e.g. initializing a BertForSequenceClassification model from a BertForPreTraining model).\n",
      "- This IS NOT expected if you are initializing XLMRobertaForMaskedLM from the checkpoint of a model that you expect to be exactly identical (initializing a BertForSequenceClassification model from a BertForSequenceClassification model).\n"
     ]
    },
    {
     "name": "stdout",
     "output_type": "stream",
     "text": [
      "Computing StereoSet (Intersentence) for:  FacebookAI/xlm-roberta-base\n"
     ]
    },
    {
     "name": "stderr",
     "output_type": "stream",
     "text": [
      "100%|██████████| 6374/6374 [1:22:42<00:00,  1.28it/s]"
     ]
    },
    {
     "name": "stdout",
     "output_type": "stream",
     "text": [
      " {'general': 0.4643865704424223, 'race': 0.4306073973532406, 'gender': 0.49533954727030627, 'profession': 0.4940451745379877, 'religion': 0.48132780082987553}\n",
      "-------------------------\n"
     ]
    },
    {
     "name": "stderr",
     "output_type": "stream",
     "text": [
      "\n"
     ]
    }
   ],
   "source": [
    "for model_name in models_names:\n",
    "    tokenizer = AutoTokenizer.from_pretrained(model_name)\n",
    "    model = AutoModelForMaskedLM.from_pretrained(model_name)\n",
    "    print('Computing StereoSet (Intersentence) for: ',model_name,)\n",
    "    stereoset_evaluator = StereosetEvaluator(model, \n",
    "                                            tokenizer,\n",
    "                                            './data/stereoset/test.json',\n",
    "                                            device = 'mps')\n",
    "    results = stereoset_evaluator.evaluate_intersentence()\n",
    "    print(f' {results}')\n",
    "    result_path = 'results/'+model_name.replace('/','-')\n",
    "    os.makedirs(result_path, exist_ok=True)\n",
    "    with open(os.path.join(result_path,'stereoset-inter.pkl'),'wb') as f:\n",
    "        pickle.dump(results, f)\n",
    "    print('-'*25)"
   ]
  }
 ],
 "metadata": {
  "kernelspec": {
   "display_name": ".venv",
   "language": "python",
   "name": "python3"
  },
  "language_info": {
   "codemirror_mode": {
    "name": "ipython",
    "version": 3
   },
   "file_extension": ".py",
   "mimetype": "text/x-python",
   "name": "python",
   "nbconvert_exporter": "python",
   "pygments_lexer": "ipython3",
   "version": "3.11.9"
  }
 },
 "nbformat": 4,
 "nbformat_minor": 5
}
